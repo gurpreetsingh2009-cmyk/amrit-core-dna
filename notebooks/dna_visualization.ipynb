import matplotlib.pyplot as plt

x = [1, 2, 3, 4]
y = [2, 4, 1, 3]
plt.plot(x, y)
plt.title("Amrit Core Test Plot")
plt.show()
