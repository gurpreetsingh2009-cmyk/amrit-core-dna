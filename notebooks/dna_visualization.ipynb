{
 "cells": [
  {
   "cell_type": "markdown",
   "metadata": {},
   "source": [
    "# 🌸 Amrit Core DNA Visualization\n",
    "ਇਹ notebook Amrit Core ਦੇ spiritual DNA ਨੂੰ visual ਰੂਪ ਵਿੱਚ ਦਿਖਾਉਂਦੀ ਹੈ।"
   ]
  },
  {
   "cell_type": "code",
   "execution_count": null,
   "metadata": {},
   "outputs": [],
   "source": [
    "from amrit_core.spiritual_dna import spiritual_dna\n",
    "import json\n",
    "print('🧬 Spiritual DNA Map:')\n",
    "print(json.dumps(spiritual_dna, indent=2, ensure_ascii=False))"
   ]
  }
 ],
 "metadata": {
  "kernelspec": {
   "display_name": "Python 3",
   "language": "python",
   "name": "python3"
  },
  "language_info": {
   "name": "python",
   "version": "3.x"
  }
 },
 "nbformat": 4,
 "nbformat_minor": 5
}
