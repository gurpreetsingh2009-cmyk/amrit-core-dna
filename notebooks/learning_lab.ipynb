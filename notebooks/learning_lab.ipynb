{
 "cells": [
  {
   "cell_type": "markdown",
   "metadata": {},
   "source": [
    "# 🧠 Amrit Core Learning Lab\n",
    "ਇਹ ਨੋਟਬੁੱਕ Amrit Core ਦੀ ਗਲਤੀਆਂ ਤੋਂ ਸਿੱਖਣ ਵਾਲੀ DNA ਲੇਅਰ ਨੂੰ ਟੈਸਟ ਕਰਦੀ ਹੈ।"
   ]
  },
  {
   "cell_type": "code",
   "execution_count": null,
   "metadata": {},
   "outputs": [],
   "source": [
    "import sys, os\n",
    "sys.path.append(os.path.abspath('..'))\n",
    "from amrit_core.learning_layer import learning_layer\n",
    "import json\n",
    "\n",
    "print('🌸 Amrit Core Learning Layer Loaded')\n",
    "print(json.dumps(learning_layer, indent=2, ensure_ascii=False))"
   ]
  }
 ],
 "metadata": {
  "kernelspec": {
   "display_name": "Python 3",
   "language": "python",
   "name": "python3"
  },
  "language_info": {
   "name": "python",
   "version": "3.x"
  }
 },
 "nbformat": 4,
 "nbformat_minor": 5
}
