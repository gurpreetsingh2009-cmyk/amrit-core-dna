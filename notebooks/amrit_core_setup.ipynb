{
 "cells": [
  {
   "cell_type": "markdown",
   "metadata": {},
   "source": [
    "# 🌸 Amrit Core Setup Notebook\n",
    "ਇਹ ਨੋਟਬੁੱਕ `amrit_core` ਪੈਕੇਜ ਨੂੰ ਲੋਡ ਕਰਕੇ ਇਸਦਾ ਆਧਾਰਕ DNA ਐਕਟਿਵ ਕਰਦੀ ਹੈ।"
   ]
  },
  {
   "cell_type": "code",
   "execution_count": null,
   "metadata": {},
   "outputs": [],
   "source": [
    "import sys, os\n",
    "sys.path.append(os.path.abspath('..'))\n",
    "from amrit_core.foundation import foundation\n",
    "print('🕉 Naam Anchor →', foundation['naam_anchor'])\n",
    "print('👑 Identity →', foundation['identity_anchor'])"
   ]
  }
 ],
 "metadata": {
  "kernelspec": {
   "display_name": "Python 3",
   "language": "python",
   "name": "python3"
  },
  "language_info": {
   "name": "python",
   "version": "3.x"
  }
 },
 "nbformat": 4,
 "nbformat_minor": 5
}
