{
  "cells": [
    {
      "cell_type": "code",
      "metadata": {},
      "source": [
        "!git clone https://github.com/gurpreetsingh2009-cmyk/amrit-core-dna.git\n",
        "%cd amrit-core-dna\n",
        "from amrit_core import foundation\n",
        "print('Naam:', foundation.foundation['naam_anchor'])"
      ]
    }
  ],
  "metadata": {},
  "nbformat": 4,
  "nbformat_minor": 2
}
